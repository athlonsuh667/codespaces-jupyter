{
  "nbformat": 4,
  "nbformat_minor": 0,
  "metadata": {
    "colab": {
      "provenance": [],
      "collapsed_sections": []
    },
    "kernelspec": {
      "name": "python3",
      "display_name": "Python 3"
    },
    "language_info": {
      "name": "python"
    }
  },
  "cells": [
    {
      "cell_type": "markdown",
      "source": [
        "1. Fungsi third place\n"
      ],
      "metadata": {
        "id": "mxmP3fI-cmFa"
      }
    },
    {
      "cell_type": "code",
      "execution_count": 4,
      "metadata": {
        "id": "8ZDtiK_ccYZU"
      },
      "outputs": [],
      "source": [
        "def third_place(names, score):\n",
        "  peringkat_3 = []\n",
        "  rank_3 = sorted(set(score))[-3]\n",
        "  for i, score in enumerate(score):\n",
        "    if score == rank_3:\n",
        "      peringkat_3.append(names[i])\n",
        "  return peringkat_3"
      ]
    },
    {
      "cell_type": "code",
      "source": [
        "names = ['one','two','three','four','five','six','seven']\n",
        "score = [80, 70, 60, 50, 80, 90, 70]"
      ],
      "metadata": {
        "id": "Wc8j7Neemq2z"
      },
      "execution_count": 5,
      "outputs": []
    },
    {
      "cell_type": "code",
      "source": [
        "third_place(names, score)"
      ],
      "metadata": {
        "colab": {
          "base_uri": "https://localhost:8080/"
        },
        "id": "3jA-NxwlnHM2",
        "outputId": "35a9c07d-d236-424d-957c-1c2c13f28026"
      },
      "execution_count": 6,
      "outputs": [
        {
          "output_type": "execute_result",
          "data": {
            "text/plain": [
              "['two', 'seven']"
            ]
          },
          "metadata": {},
          "execution_count": 6
        }
      ]
    },
    {
      "cell_type": "markdown",
      "source": [
        "2. Square Roots\n",
        "\n",
        "\n",
        "\n"
      ],
      "metadata": {
        "id": "pliUE_cCczCc"
      }
    },
    {
      "cell_type": "code",
      "source": [
        "import numpy as np\n",
        "\n",
        "def square_root(a, b, c):\n",
        "  if b**2-4*a*c < 0:\n",
        "        print('Tidak ada solusi')\n",
        "  else:\n",
        "        x1 = (-b + np.sqrt(b**2 - 4*a*c)) / 2*a\n",
        "        x2 = (-b - np.sqrt(b**2 - 4*a*c)) / 2*a\n",
        "        if x1 == x2:\n",
        "            print('X =' + str(x1))\n",
        "        else:\n",
        "            print('X1 = ' + str(x1) + ', X2 = ' + str(x2))"
      ],
      "metadata": {
        "id": "mOZaQZD-c3KJ"
      },
      "execution_count": 7,
      "outputs": []
    },
    {
      "cell_type": "code",
      "source": [
        "square_root(1, -5, 6)"
      ],
      "metadata": {
        "colab": {
          "base_uri": "https://localhost:8080/"
        },
        "id": "DQJUXbJ6qZUo",
        "outputId": "65be7489-649d-45f9-90b9-f12915956ade"
      },
      "execution_count": 11,
      "outputs": [
        {
          "output_type": "stream",
          "name": "stdout",
          "text": [
            "X1 = 3.0, X2 = 2.0\n"
          ]
        }
      ]
    },
    {
      "cell_type": "markdown",
      "source": [
        "3. Distance Between Two Coordinates"
      ],
      "metadata": {
        "id": "zU-eXycWdBHU"
      }
    },
    {
      "cell_type": "code",
      "source": [
        "def distance(point_1, point_2):\n",
        "  X1 = point_1[0]\n",
        "  Y1 = point_1[1]\n",
        "\n",
        "  X2 = point_2[0]\n",
        "  Y2 = point_2[1]\n",
        "  return f'The distance is {(((X2-X1)**2+(Y2-Y1)**2)**0.5):.2f}'"
      ],
      "metadata": {
        "id": "kP3JEO3SdIKt"
      },
      "execution_count": 14,
      "outputs": []
    },
    {
      "cell_type": "code",
      "source": [
        "point_1 = [3, 5]\n",
        "point_2 = [7, 8]\n",
        "distance(point_1, point_2)"
      ],
      "metadata": {
        "colab": {
          "base_uri": "https://localhost:8080/",
          "height": 35
        },
        "id": "HO5F-5G-tKdM",
        "outputId": "90874818-547a-4f62-ffa4-a1d818a8f57f"
      },
      "execution_count": 15,
      "outputs": [
        {
          "output_type": "execute_result",
          "data": {
            "text/plain": [
              "'The distance is 5.00'"
            ],
            "application/vnd.google.colaboratory.intrinsic+json": {
              "type": "string"
            }
          },
          "metadata": {},
          "execution_count": 15
        }
      ]
    }
  ]
}