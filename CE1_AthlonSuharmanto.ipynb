{
  "nbformat": 4,
  "nbformat_minor": 0,
  "metadata": {
    "colab": {
      "provenance": []
    },
    "kernelspec": {
      "name": "python3",
      "display_name": "Python 3"
    },
    "language_info": {
      "name": "python"
    }
  },
  "cells": [
    {
      "cell_type": "markdown",
      "source": [
        "FIRST CODING EXERCISE"
      ],
      "metadata": {
        "id": "7rHydlP_gnhO"
      }
    },
    {
      "cell_type": "markdown",
      "source": [
        "TASK 1"
      ],
      "metadata": {
        "id": "3qUSc0gTg7T-"
      }
    },
    {
      "cell_type": "code",
      "source": [
        "for x in range(3,22,3):\n",
        "  print(x)"
      ],
      "metadata": {
        "colab": {
          "base_uri": "https://localhost:8080/"
        },
        "id": "n-sTZEicg9MT",
        "outputId": "8dfd6b94-ac46-41de-b07b-12ce1faea978"
      },
      "execution_count": 1,
      "outputs": [
        {
          "output_type": "stream",
          "name": "stdout",
          "text": [
            "3\n",
            "6\n",
            "9\n",
            "12\n",
            "15\n",
            "18\n",
            "21\n"
          ]
        }
      ]
    },
    {
      "cell_type": "markdown",
      "source": [
        "TASK 2"
      ],
      "metadata": {
        "id": "iAj4_VqfhRST"
      }
    },
    {
      "cell_type": "code",
      "source": [
        "bilangan_Prima = input('enter your number: ')\n",
        "p = int(bilangan_Prima)\n",
        "yes_prime = 'is a prime number'\n",
        "no_prime = 'is not a prime number'\n",
        "jumlah_nol = 0\n",
        "\n",
        "if p == 2:\n",
        "    teks = yes_prime\n",
        "else:\n",
        "    for i in range(2, p+1):\n",
        "        if p % i == 0:\n",
        "            stat = 1\n",
        "            jumlah_nol = jumlah_nol+stat\n",
        "        if jumlah_nol == 1:\n",
        "            teks = yes_prime\n",
        "        else:\n",
        "            teks = no_prime\n",
        "    print('%s' % bilangan_Prima + ' ' + teks)\n"
      ],
      "metadata": {
        "colab": {
          "base_uri": "https://localhost:8080/"
        },
        "id": "NRTqK6bIhUo4",
        "outputId": "0eeaf20a-6308-4814-c116-cbcbaab8c87e"
      },
      "execution_count": 1,
      "outputs": [
        {
          "output_type": "stream",
          "name": "stdout",
          "text": [
            "enter your number: 7\n",
            "7 is a prime number\n"
          ]
        }
      ]
    }
  ]
}